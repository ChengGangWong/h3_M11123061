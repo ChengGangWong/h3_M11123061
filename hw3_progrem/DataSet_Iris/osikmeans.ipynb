{
 "cells": [
  {
   "cell_type": "code",
   "execution_count": 1,
   "metadata": {},
   "outputs": [
    {
     "name": "stdout",
     "output_type": "stream",
     "text": [
      "Requirement already satisfied: pandas in c:\\users\\user\\appdata\\local\\programs\\orange\\lib\\site-packages (1.4.4)\n",
      "Requirement already satisfied: numpy>=1.18.5 in c:\\users\\user\\appdata\\local\\programs\\orange\\lib\\site-packages (from pandas) (1.21.6)\n",
      "Requirement already satisfied: pytz>=2020.1 in c:\\users\\user\\appdata\\local\\programs\\orange\\lib\\site-packages (from pandas) (2022.4)\n",
      "Requirement already satisfied: python-dateutil>=2.8.1 in c:\\users\\user\\appdata\\local\\programs\\orange\\lib\\site-packages (from pandas) (2.8.2)\n",
      "Requirement already satisfied: six>=1.5 in c:\\users\\user\\appdata\\local\\programs\\orange\\lib\\site-packages (from python-dateutil>=2.8.1->pandas) (1.16.0)\n",
      "Note: you may need to restart the kernel to use updated packages.\n"
     ]
    }
   ],
   "source": [
    "pip install pandas"
   ]
  },
  {
   "cell_type": "code",
   "execution_count": 2,
   "metadata": {},
   "outputs": [
    {
     "name": "stdout",
     "output_type": "stream",
     "text": [
      "Requirement already satisfied: graphviz in c:\\users\\user\\appdata\\local\\programs\\orange\\lib\\site-packages (0.20.1)\n",
      "Note: you may need to restart the kernel to use updated packages.\n"
     ]
    }
   ],
   "source": [
    "pip install graphviz"
   ]
  },
  {
   "cell_type": "code",
   "execution_count": 3,
   "metadata": {},
   "outputs": [
    {
     "name": "stdout",
     "output_type": "stream",
     "text": [
      "Requirement already satisfied: pydotplus in c:\\users\\user\\appdata\\local\\programs\\orange\\lib\\site-packages (2.0.2)\n",
      "Requirement already satisfied: pyparsing>=2.0.1 in c:\\users\\user\\appdata\\local\\programs\\orange\\lib\\site-packages (from pydotplus) (3.0.9)\n",
      "Note: you may need to restart the kernel to use updated packages.\n"
     ]
    }
   ],
   "source": [
    "pip install pydotplus"
   ]
  },
  {
   "cell_type": "code",
   "execution_count": 4,
   "metadata": {},
   "outputs": [],
   "source": [
    "from sklearn.cluster import KMeans\n",
    "import numpy as np\n",
    "import pandas as pd\n",
    "import scipy.cluster.hierarchy as sch\n",
    "from sklearn.preprocessing import LabelEncoder\n",
    "from matplotlib import pyplot as plt\n",
    "from sklearn.cluster import DBSCAN\n",
    "from sklearn import metrics\n",
    "from sklearn import datasets\n",
    "from sklearn.model_selection import train_test_split\n",
    "from sklearn.cluster import AgglomerativeClustering\n",
    "from time import time"
   ]
  },
  {
   "cell_type": "code",
   "execution_count": 5,
   "metadata": {},
   "outputs": [],
   "source": [
    "col_names = ['Administrative','Administrative_Duration','Informational_Duration','ProductRelated','ProductRelated_Duration',\n",
    "             'BounceRates','ExitRates','PageValues','SpecialDay','Month','OperatingSystems','Browser','Region','TrafficType','VisitorType_New_Visitor',\n",
    "             'VisitorType_Returning_Visitor','VisitorType_Other','Weekend','Revenue','Y']\n",
    "# load datasetSex\n",
    "data = pd.read_csv(\"OSI_data_v2.csv\", header=None, names=col_names)"
   ]
  },
  {
   "cell_type": "code",
   "execution_count": 6,
   "metadata": {},
   "outputs": [
    {
     "data": {
      "text/html": [
       "<div>\n",
       "<style scoped>\n",
       "    .dataframe tbody tr th:only-of-type {\n",
       "        vertical-align: middle;\n",
       "    }\n",
       "\n",
       "    .dataframe tbody tr th {\n",
       "        vertical-align: top;\n",
       "    }\n",
       "\n",
       "    .dataframe thead th {\n",
       "        text-align: right;\n",
       "    }\n",
       "</style>\n",
       "<table border=\"1\" class=\"dataframe\">\n",
       "  <thead>\n",
       "    <tr style=\"text-align: right;\">\n",
       "      <th></th>\n",
       "      <th>Administrative</th>\n",
       "      <th>Administrative_Duration</th>\n",
       "      <th>Informational_Duration</th>\n",
       "      <th>ProductRelated</th>\n",
       "      <th>ProductRelated_Duration</th>\n",
       "      <th>BounceRates</th>\n",
       "      <th>ExitRates</th>\n",
       "      <th>PageValues</th>\n",
       "      <th>SpecialDay</th>\n",
       "      <th>Month</th>\n",
       "      <th>OperatingSystems</th>\n",
       "      <th>Browser</th>\n",
       "      <th>Region</th>\n",
       "      <th>TrafficType</th>\n",
       "      <th>VisitorType_New_Visitor</th>\n",
       "      <th>VisitorType_Returning_Visitor</th>\n",
       "      <th>VisitorType_Other</th>\n",
       "      <th>Weekend</th>\n",
       "      <th>Revenue</th>\n",
       "      <th>Y</th>\n",
       "    </tr>\n",
       "  </thead>\n",
       "  <tbody>\n",
       "    <tr>\n",
       "      <th>0</th>\n",
       "      <td>0</td>\n",
       "      <td>0.0</td>\n",
       "      <td>0.0</td>\n",
       "      <td>0</td>\n",
       "      <td>0.0</td>\n",
       "      <td>0.18</td>\n",
       "      <td>0.181818</td>\n",
       "      <td>0.0</td>\n",
       "      <td>0.0</td>\n",
       "      <td>6</td>\n",
       "      <td>2</td>\n",
       "      <td>2</td>\n",
       "      <td>7</td>\n",
       "      <td>6</td>\n",
       "      <td>0</td>\n",
       "      <td>1</td>\n",
       "      <td>0</td>\n",
       "      <td>0</td>\n",
       "      <td>0</td>\n",
       "      <td>0</td>\n",
       "    </tr>\n",
       "    <tr>\n",
       "      <th>1</th>\n",
       "      <td>0</td>\n",
       "      <td>0.0</td>\n",
       "      <td>0.0</td>\n",
       "      <td>0</td>\n",
       "      <td>0.0</td>\n",
       "      <td>0.20</td>\n",
       "      <td>0.200000</td>\n",
       "      <td>0.0</td>\n",
       "      <td>0.0</td>\n",
       "      <td>11</td>\n",
       "      <td>1</td>\n",
       "      <td>1</td>\n",
       "      <td>8</td>\n",
       "      <td>8</td>\n",
       "      <td>0</td>\n",
       "      <td>1</td>\n",
       "      <td>0</td>\n",
       "      <td>0</td>\n",
       "      <td>0</td>\n",
       "      <td>0</td>\n",
       "    </tr>\n",
       "    <tr>\n",
       "      <th>2</th>\n",
       "      <td>0</td>\n",
       "      <td>0.0</td>\n",
       "      <td>0.0</td>\n",
       "      <td>0</td>\n",
       "      <td>0.0</td>\n",
       "      <td>0.20</td>\n",
       "      <td>0.200000</td>\n",
       "      <td>0.0</td>\n",
       "      <td>0.0</td>\n",
       "      <td>11</td>\n",
       "      <td>1</td>\n",
       "      <td>1</td>\n",
       "      <td>9</td>\n",
       "      <td>2</td>\n",
       "      <td>0</td>\n",
       "      <td>1</td>\n",
       "      <td>0</td>\n",
       "      <td>0</td>\n",
       "      <td>0</td>\n",
       "      <td>0</td>\n",
       "    </tr>\n",
       "    <tr>\n",
       "      <th>3</th>\n",
       "      <td>0</td>\n",
       "      <td>0.0</td>\n",
       "      <td>0.0</td>\n",
       "      <td>0</td>\n",
       "      <td>0.0</td>\n",
       "      <td>0.20</td>\n",
       "      <td>0.200000</td>\n",
       "      <td>0.0</td>\n",
       "      <td>0.0</td>\n",
       "      <td>11</td>\n",
       "      <td>1</td>\n",
       "      <td>1</td>\n",
       "      <td>9</td>\n",
       "      <td>3</td>\n",
       "      <td>0</td>\n",
       "      <td>1</td>\n",
       "      <td>0</td>\n",
       "      <td>0</td>\n",
       "      <td>0</td>\n",
       "      <td>0</td>\n",
       "    </tr>\n",
       "    <tr>\n",
       "      <th>4</th>\n",
       "      <td>0</td>\n",
       "      <td>0.0</td>\n",
       "      <td>0.0</td>\n",
       "      <td>0</td>\n",
       "      <td>0.0</td>\n",
       "      <td>0.20</td>\n",
       "      <td>0.200000</td>\n",
       "      <td>0.0</td>\n",
       "      <td>0.0</td>\n",
       "      <td>5</td>\n",
       "      <td>2</td>\n",
       "      <td>2</td>\n",
       "      <td>8</td>\n",
       "      <td>3</td>\n",
       "      <td>0</td>\n",
       "      <td>1</td>\n",
       "      <td>0</td>\n",
       "      <td>0</td>\n",
       "      <td>0</td>\n",
       "      <td>0</td>\n",
       "    </tr>\n",
       "  </tbody>\n",
       "</table>\n",
       "</div>"
      ],
      "text/plain": [
       "   Administrative  Administrative_Duration  Informational_Duration  \\\n",
       "0               0                      0.0                     0.0   \n",
       "1               0                      0.0                     0.0   \n",
       "2               0                      0.0                     0.0   \n",
       "3               0                      0.0                     0.0   \n",
       "4               0                      0.0                     0.0   \n",
       "\n",
       "   ProductRelated  ProductRelated_Duration  BounceRates  ExitRates  \\\n",
       "0               0                      0.0         0.18   0.181818   \n",
       "1               0                      0.0         0.20   0.200000   \n",
       "2               0                      0.0         0.20   0.200000   \n",
       "3               0                      0.0         0.20   0.200000   \n",
       "4               0                      0.0         0.20   0.200000   \n",
       "\n",
       "   PageValues  SpecialDay  Month  OperatingSystems  Browser  Region  \\\n",
       "0         0.0         0.0      6                 2        2       7   \n",
       "1         0.0         0.0     11                 1        1       8   \n",
       "2         0.0         0.0     11                 1        1       9   \n",
       "3         0.0         0.0     11                 1        1       9   \n",
       "4         0.0         0.0      5                 2        2       8   \n",
       "\n",
       "   TrafficType  VisitorType_New_Visitor  VisitorType_Returning_Visitor  \\\n",
       "0            6                        0                              1   \n",
       "1            8                        0                              1   \n",
       "2            2                        0                              1   \n",
       "3            3                        0                              1   \n",
       "4            3                        0                              1   \n",
       "\n",
       "   VisitorType_Other  Weekend  Revenue  Y  \n",
       "0                  0        0        0  0  \n",
       "1                  0        0        0  0  \n",
       "2                  0        0        0  0  \n",
       "3                  0        0        0  0  \n",
       "4                  0        0        0  0  "
      ]
     },
     "execution_count": 6,
     "metadata": {},
     "output_type": "execute_result"
    }
   ],
   "source": [
    "data.head()"
   ]
  },
  {
   "cell_type": "code",
   "execution_count": 7,
   "metadata": {},
   "outputs": [
    {
     "data": {
      "text/plain": [
       "0        0\n",
       "1        0\n",
       "2        0\n",
       "3        0\n",
       "4        0\n",
       "        ..\n",
       "12325    1\n",
       "12326    0\n",
       "12327    0\n",
       "12328    3\n",
       "12329    1\n",
       "Name: Y, Length: 12330, dtype: int64"
      ]
     },
     "execution_count": 7,
     "metadata": {},
     "output_type": "execute_result"
    }
   ],
   "source": [
    "from tkinter import Y\n",
    "feature_cols = ['Administrative','Administrative_Duration','Informational_Duration','ProductRelated','ProductRelated_Duration',\n",
    "             'BounceRates','ExitRates','PageValues','SpecialDay','Month','OperatingSystems','Browser','Region','TrafficType','VisitorType_New_Visitor',\n",
    "             'VisitorType_Returning_Visitor','VisitorType_Other','Weekend','Revenue','Y']\n",
    "X = data[feature_cols] # Features\n",
    "y = data.Y # Target variable\n",
    "y"
   ]
  },
  {
   "cell_type": "code",
   "execution_count": 8,
   "metadata": {},
   "outputs": [],
   "source": [
    "X_train, X_test, y_train, y_test = train_test_split(X, y)"
   ]
  },
  {
   "cell_type": "code",
   "execution_count": 9,
   "metadata": {},
   "outputs": [
    {
     "data": {
      "text/plain": [
       "(9247, 20)"
      ]
     },
     "execution_count": 9,
     "metadata": {},
     "output_type": "execute_result"
    }
   ],
   "source": [
    "X_train.shape"
   ]
  },
  {
   "cell_type": "code",
   "execution_count": 10,
   "metadata": {},
   "outputs": [],
   "source": [
    "#Purity計算\n",
    "def Purity(Cluster,ClassData):\n",
    "    cSet=[]\n",
    "    for c in range(0,len(Cluster)):\n",
    "        isNotSave=True\n",
    "        for cs in range(0,len(cSet)):\n",
    "            if(cSet[cs]==Cluster[c]):\n",
    "                isNotSave=False\n",
    "                break\n",
    "        if(isNotSave):\n",
    "            cSet.append(Cluster[c])\n",
    "    classSet=[]\n",
    "    for a in range(0,len(ClassData)):\n",
    "        isNotSave=True\n",
    "        for cs in range(0,len(classSet)):\n",
    "            if(classSet[cs]==ClassData[a]):\n",
    "                isNotSave=False\n",
    "                break\n",
    "        if(isNotSave):\n",
    "            classSet.append(ClassData[a])\n",
    "    cCount=[]\n",
    "    for cs in range(0,len(cSet)):\n",
    "        classCount=[]\n",
    "        for c in range (0,len(classSet)):\n",
    "            classCount.append(0)\n",
    "        for cl in range(0,len(Cluster)):\n",
    "            if(cSet[cs]==Cluster[cl]):\n",
    "                for c in range (0,len(classSet)):\n",
    "                    if(ClassData[cl]==classSet[c]):\n",
    "                        classCount[c]+=1\n",
    "                        break;\n",
    "        cCount.append(classCount)\n",
    "    rowCount=[]\n",
    "    maxCount=[]\n",
    "    for c in range(0,len(cCount)):\n",
    "        rowCount.append(0)\n",
    "        maxCount.append(0)\n",
    "    sumCount=0\n",
    "    for c in range(0,len(cCount)):\n",
    "        for r in range(0,len(cCount[c])):\n",
    "            rowCount[c]+=cCount[c][r]\n",
    "            sumCount+=cCount[c][r]\n",
    "            if(maxCount[c]<cCount[c][r]):\n",
    "                maxCount[c]=cCount[c][r]\n",
    "    \n",
    "    avg=0\n",
    "    for a in range(0,len(rowCount)):\n",
    "        avg+=(maxCount[a]/rowCount[a])*(rowCount[a]/sumCount)\n",
    "    return str(avg)"
   ]
  },
  {
   "cell_type": "code",
   "execution_count": 11,
   "metadata": {},
   "outputs": [],
   "source": [
    "# def mode(a):\n",
    "#     counts = np.bincount(a)  \n",
    "#     return np.argmax(counts)"
   ]
  },
  {
   "cell_type": "code",
   "execution_count": 12,
   "metadata": {},
   "outputs": [
    {
     "name": "stdout",
     "output_type": "stream",
     "text": [
      "Silhouetter Score: 0.684\n"
     ]
    }
   ],
   "source": [
    "#silhouette_score\n",
    "from sklearn import cluster\n",
    "from sklearn.metrics import silhouette_score\n",
    "# KMeans\n",
    "\n",
    "pred_kmean = cluster.KMeans(n_clusters = 3,algorithm=\"elkan\")\n",
    "pred_kmean.fit_predict(X_test)\n",
    "\n",
    "pred_labels = pred_kmean.labels_\n",
    "\n",
    "score = silhouette_score(X_test, pred_labels, metric='euclidean')\n",
    "print('Silhouetter Score: %.3f' % score)"
   ]
  },
  {
   "cell_type": "code",
   "execution_count": 13,
   "metadata": {},
   "outputs": [
    {
     "data": {
      "image/png": "[encoded data removed]",
      "text/plain": [
       "<Figure size 640x480 with 1 Axes>"
      ]
     },
     "metadata": {},
     "output_type": "display_data"
    }
   ],
   "source": [
    "#sse\n",
    "sse= []\n",
    "for k in range(1, 20):\n",
    "    kmeans = KMeans(n_clusters=k)\n",
    "    kmeans.fit(X)\n",
    "    sse.append(kmeans.inertia_)\n",
    "\n",
    "plt.plot(range(1, 20), sse)\n",
    "plt.xticks(range(1, 20))\n",
    "plt.xlabel(\"Number of Clusters\")\n",
    "plt.ylabel(\"SSE\")\n",
    "plt.show()"
   ]
  },
  {
   "cell_type": "code",
   "execution_count": 14,
   "metadata": {},
   "outputs": [
    {
     "name": "stdout",
     "output_type": "stream",
     "text": [
      "Purity: 1.0\n",
      "分群結果：\n",
      "[1 1 1 1 1 1 1 1 1 1 1 1 1 1 1 1 1 1 1 1 1 1 1 1 1 1 1 1 1 1 1 1 1 1 1 1 1\n",
      " 1 1 1 1 1 1 1 1 1 1 1 1 1 2 2 2 2 2 2 2 2 2 2 2 2 2 2 2 2 2 2 2 2 2 2 2 2\n",
      " 2 2 2 0 2 2 2 2 2 0 2 2 2 2 2 2 2 2 2 2 2 2 2 2 2 2 0 0 0 0 0 0 2 0 0 0 0\n",
      " 0 0 0 0 0 0 0 0 2 0 0 0 0 0 0 2 0 0 0 0 0 0 0 0 0 0 0 2 0 0 0 0 0 0 0 0 0\n",
      " 0 0]\n",
      "---\n",
      "真實品種：\n",
      "[0 0 0 0 0 0 0 0 0 0 0 0 0 0 0 0 0 0 0 0 0 0 0 0 0 0 0 0 0 0 0 0 0 0 0 0 0\n",
      " 0 0 0 0 0 0 0 0 0 0 0 0 0 1 1 1 1 1 1 1 1 1 1 1 1 1 1 1 1 1 1 1 1 1 1 1 1\n",
      " 1 1 1 1 1 1 1 1 1 1 1 1 1 1 1 1 1 1 1 1 1 1 1 1 1 1 2 2 2 2 2 2 2 2 2 2 2\n",
      " 2 2 2 2 2 2 2 2 2 2 2 2 2 2 2 2 2 2 2 2 2 2 2 2 2 2 2 2 2 2 2 2 2 2 2 2 2\n",
      " 2 2]\n"
     ]
    },
    {
     "data": {
      "text/plain": [
       "<matplotlib.collections.PathCollection at 0x2c61bd51c10>"
      ]
     },
     "execution_count": 14,
     "metadata": {},
     "output_type": "execute_result"
    },
    {
     "data": {
      "image/png": "[encoded data removed]",
      "text/plain": [
       "<Figure size 640x480 with 1 Axes>"
      ]
     },
     "metadata": {},
     "output_type": "display_data"
    }
   ],
   "source": [
    "from sklearn import cluster, datasets\n",
    "\n",
    "# 讀入鳶尾花資料\n",
    "osi = datasets.load_iris()\n",
    "X = osi.data\n",
    "X=X[:,2:4]\n",
    "\n",
    "# KMeans 演算法\n",
    "kmeans_fit = cluster.KMeans(n_clusters = 3).fit(X)\n",
    "t= time()\n",
    "kmeans_fit.fit_predict(X)\n",
    "c=kmeans_fit.fit_predict(X)\n",
    "yArray=[]\n",
    "for yy in y:\n",
    "    yArray.append(yy)\n",
    "purity = Purity(c,yArray)\n",
    "print('Purity:', purity)\n",
    "\n",
    "# 印出分群結果\n",
    "cluster_labels = kmeans_fit.labels_\n",
    "print(\"分群結果：\")\n",
    "print(cluster_labels)\n",
    "print(\"---\")\n",
    "\n",
    "# 印出品種看看\n",
    "iris_y = osi.target\n",
    "print(\"真實品種：\")\n",
    "print(iris_y)\n",
    "\n",
    "\n",
    "plt.scatter(X[:,0],X[:,1],c=kmeans_fit.predict(X))"
   ]
  },
  {
   "cell_type": "code",
   "execution_count": 15,
   "metadata": {},
   "outputs": [
    {
     "name": "stdout",
     "output_type": "stream",
     "text": [
      "0.6604800083974887\n"
     ]
    }
   ],
   "source": [
    "from sklearn import cluster, datasets, metrics\n",
    "\n",
    "\n",
    "# KMeans 演算法\n",
    "kmeans_fit = cluster.KMeans(n_clusters = 3).fit(X)\n",
    "cluster_labels = kmeans_fit.labels_\n",
    "\n",
    "# 印出績效\n",
    "silhouette_avg = metrics.silhouette_score(X, cluster_labels)\n",
    "print(silhouette_avg)\n"
   ]
  },
  {
   "cell_type": "code",
   "execution_count": 16,
   "metadata": {},
   "outputs": [
    {
     "data": {
      "image/png": "[encoded data removed]",
      "text/plain": [
       "<Figure size 640x480 with 1 Axes>"
      ]
     },
     "metadata": {},
     "output_type": "display_data"
    },
    {
     "name": "stdout",
     "output_type": "stream",
     "text": [
      "[0.7653904101258123, 0.6604800083974887, 0.6127580794464402, 0.5883732712110276, 0.5769601940397073, 0.5726638363764566, 0.5918796890703468, 0.5863713899381878]\n"
     ]
    }
   ],
   "source": [
    "from sklearn import cluster, datasets, metrics\n",
    "import matplotlib.pyplot as plt\n",
    "\n",
    "# 迴圈\n",
    "silhouette_avgs = []\n",
    "ks = range(2, 10)\n",
    "for k in ks:\n",
    "    kmeans_fit = cluster.KMeans(n_clusters = k).fit(X)\n",
    "    cluster_labels = kmeans_fit.labels_\n",
    "    silhouette_avg = metrics.silhouette_score(X, cluster_labels)\n",
    "    silhouette_avgs.append(silhouette_avg)\n",
    "\n",
    "# 作圖並印出 k = 2 到 10 的績效\n",
    "plt.bar(ks, silhouette_avgs)\n",
    "plt.show()\n",
    "print(silhouette_avgs)"
   ]
  },
  {
   "cell_type": "code",
   "execution_count": null,
   "metadata": {},
   "outputs": [],
   "source": []
  },
  {
   "cell_type": "code",
   "execution_count": null,
   "metadata": {},
   "outputs": [],
   "source": []
  }
 ],
 "metadata": {
  "kernelspec": {
   "display_name": "Python 3",
   "language": "python",
   "name": "python3"
  },
  "language_info": {
   "codemirror_mode": {
    "name": "ipython",
    "version": 3
   },
   "file_extension": ".py",
   "mimetype": "text/x-python",
   "name": "python",
   "nbconvert_exporter": "python",
   "pygments_lexer": "ipython3",
   "version": "3.8.8"
  },
  "orig_nbformat": 4,
  "vscode": {
   "interpreter": {
    "hash": "6cd19e862e91a85f2ffc7e43b0ae5d02c328ac1801d249aaf941a8ea98dabb7c"
   }
  }
 },
 "nbformat": 4,
 "nbformat_minor": 2
}
