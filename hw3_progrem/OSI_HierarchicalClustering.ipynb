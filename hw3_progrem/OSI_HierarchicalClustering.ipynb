{
 "cells": [
  {
   "cell_type": "code",
   "execution_count": null,
   "metadata": {},
   "outputs": [],
   "source": []
  },
  {
   "cell_type": "code",
   "execution_count": 1,
   "metadata": {},
   "outputs": [],
   "source": [
    "#資料處理\n",
    "dataPath=r'OSI_data_v2.csv'\n",
    "dataList=[]\n",
    "import csv\n",
    "with open(dataPath, \"r\", newline=\"\") as csvData:\n",
    "  reader = csv.reader(csvData)\n",
    "  for r in reader:\n",
    "     dataList.append(r)\n",
    "featrueName=[]#特徵屬性名稱\n",
    "featrueData=[]#特徵屬性Data\n",
    "ClassData=[]#ClassData\n",
    "for r in range(0,len(dataList)):\n",
    "  if(r==0):\n",
    "    featrueName=dataList[r]\n",
    "  else:\n",
    "    data=[]\n",
    "    dataAll=[]\n",
    "    ClassData.append(dataList[r][len(dataList[r])-1])\n",
    "    for c in range(0,len(dataList[r])):\n",
    "      if(c<len(dataList[r])-1):\n",
    "        data.append(float(dataList[r][c]))\n",
    "    featrueData.append(data)\n"
   ]
  },
  {
   "cell_type": "code",
   "execution_count": 2,
   "metadata": {},
   "outputs": [],
   "source": [
    "#Purity計算\n",
    "def Purity(Cluster,ClassData):\n",
    "    cSet=[]\n",
    "    for c in range(0,len(Cluster)):\n",
    "        isNotSave=True\n",
    "        for cs in range(0,len(cSet)):\n",
    "            if(cSet[cs]==Cluster[c]):\n",
    "                isNotSave=False\n",
    "                break\n",
    "        if(isNotSave):\n",
    "            cSet.append(Cluster[c])\n",
    "    classSet=[]\n",
    "    for a in range(0,len(ClassData)):\n",
    "        isNotSave=True\n",
    "        for cs in range(0,len(classSet)):\n",
    "            if(classSet[cs]==ClassData[a]):\n",
    "                isNotSave=False\n",
    "                break\n",
    "        if(isNotSave):\n",
    "            classSet.append(ClassData[a])\n",
    "    cCount=[]\n",
    "    for cs in range(0,len(cSet)):\n",
    "        classCount=[]\n",
    "        for c in range (0,len(classSet)):\n",
    "            classCount.append(0)\n",
    "        for cl in range(0,len(Cluster)):\n",
    "            if(cSet[cs]==Cluster[cl]):\n",
    "                for c in range (0,len(classSet)):\n",
    "                    if(ClassData[cl]==classSet[c]):\n",
    "                        classCount[c]+=1\n",
    "                        break;\n",
    "        cCount.append(classCount)\n",
    "    rowCount=[]\n",
    "    maxCount=[]\n",
    "    for c in range(0,len(cCount)):\n",
    "        rowCount.append(0)\n",
    "        maxCount.append(0)\n",
    "    sumCount=0\n",
    "    for c in range(0,len(cCount)):\n",
    "        for r in range(0,len(cCount[c])):\n",
    "            rowCount[c]+=cCount[c][r]\n",
    "            sumCount+=cCount[c][r]\n",
    "            if(maxCount[c]<cCount[c][r]):\n",
    "                maxCount[c]=cCount[c][r]\n",
    "    \n",
    "    avg=0\n",
    "    for a in range(0,len(rowCount)):\n",
    "        avg+=(maxCount[a]/rowCount[a])*(rowCount[a]/sumCount)\n",
    "    return str(avg)\n",
    "    "
   ]
  },
  {
   "cell_type": "code",
   "execution_count": 3,
   "metadata": {},
   "outputs": [
    {
     "name": "stdout",
     "output_type": "stream",
     "text": [
      "執行時間：4.197055 秒\n",
      "Purity:0.78661800486618\n"
     ]
    }
   ],
   "source": [
    "#層次聚類 by 完整\n",
    "import matplotlib.pyplot as plt\n",
    "from sklearn.cluster import AgglomerativeClustering\n",
    "import numpy as np\n",
    "X=np.array(featrueData)\n",
    "ml=AgglomerativeClustering(n_clusters=3,affinity='euclidean',linkage='ward')\n",
    "import time\n",
    "timeStart=time.time()\n",
    "ml.fit_predict(X)\n",
    "timeFinish=time.time()\n",
    "print(\"執行時間：%f 秒\" % (timeFinish - timeStart))\n",
    "print(\"Purity:\"+Purity(ml.fit_predict(X),ClassData))"
   ]
  }
 ],
 "metadata": {
  "kernelspec": {
   "display_name": "Python 3",
   "language": "python",
   "name": "python3"
  },
  "language_info": {
   "codemirror_mode": {
    "name": "ipython",
    "version": 3
   },
   "file_extension": ".py",
   "mimetype": "text/x-python",
   "name": "python",
   "nbconvert_exporter": "python",
   "pygments_lexer": "ipython3",
   "version": "3.7.8 (tags/v3.7.8:4b47a5b6ba, Jun 28 2020, 08:53:46) [MSC v.1916 64 bit (AMD64)]"
  },
  "orig_nbformat": 4,
  "vscode": {
   "interpreter": {
    "hash": "a73315fd7e3cc8eaefdf2f5f976362733e649cc2a62cdc8a96cf94fa933e64d6"
   }
  }
 },
 "nbformat": 4,
 "nbformat_minor": 2
}
